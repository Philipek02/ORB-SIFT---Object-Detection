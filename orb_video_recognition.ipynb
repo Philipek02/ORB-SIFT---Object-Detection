{
 "cells": [
  {
   "cell_type": "markdown",
   "id": "dde915c0",
   "metadata": {},
   "source": [
    "# ORB object recognition"
   ]
  },
  {
   "cell_type": "code",
   "execution_count": null,
   "id": "9b5d121a",
   "metadata": {},
   "outputs": [],
   "source": [
    "import cv2, numpy as np, matplotlib.pyplot as plt\n",
    "from pathlib import Path\n",
    "from collections import defaultdict\n",
    "from tqdm.auto import tqdm\n",
    "\n",
    "plt.rcParams['figure.figsize'] = (7, 4)\n",
    "print('OpenCV', cv2.__version__)\n",
    "\n",
    "# === paths ===\n",
    "keys_dir   = Path('dataset/keys')\n",
    "video_path = Path('dataset/video.mp4')\n",
    "output_dir = Path('results')\n",
    "output_dir.mkdir(parents=True, exist_ok=True)"
   ]
  },
  {
   "cell_type": "code",
   "execution_count": null,
   "id": "3af709da",
   "metadata": {},
   "outputs": [],
   "source": [
    "# === hyper‑params ===\n",
    "ORB_PARAMS = dict(\n",
    "    nfeatures=3000,\n",
    "    scaleFactor=1.2,\n",
    "    nlevels=8,\n",
    "    edgeThreshold=15,\n",
    "    fastThreshold=20,\n",
    ")\n",
    "\n",
    "RATIO_TEST       = 0.8       # Lowe ratio\n",
    "MIN_INLIERS      = 10        # minimum inliers\n",
    "MIN_INLIER_RATIO = 0.2       # inliers / good_matches\n"
   ]
  },
  {
   "cell_type": "code",
   "execution_count": null,
   "id": "d6f8a84f",
   "metadata": {},
   "outputs": [],
   "source": [
    "def preprocess(img_bgr, blur=True, clahe=True):\n",
    "    gray = cv2.cvtColor(img_bgr, cv2.COLOR_BGR2GRAY)\n",
    "    if blur:\n",
    "        gray = cv2.GaussianBlur(gray, (3, 3), 0)\n",
    "    if clahe:\n",
    "        gray = cv2.createCLAHE(3.) .apply(gray)\n",
    "    return gray"
   ]
  },
  {
   "cell_type": "code",
   "execution_count": null,
   "id": "6809b525",
   "metadata": {},
   "outputs": [],
   "source": [
    "def create_detector():\n",
    "    return cv2.ORB_create(**ORB_PARAMS)\n",
    "\n",
    "def create_flann_matcher():\n",
    "    index_params = dict(algorithm=6,\n",
    "                        table_number=12,  \n",
    "                        key_size=20,     \n",
    "                        multi_probe_level=2)  \n",
    "    search_params = dict(checks=50)\n",
    "    return cv2.FlannBasedMatcher(index_params, search_params)"
   ]
  },
  {
   "cell_type": "code",
   "execution_count": null,
   "id": "3b612ab5",
   "metadata": {},
   "outputs": [],
   "source": [
    "def load_key_images(detector, folder):\n",
    "    db = []\n",
    "    for path in sorted(folder.iterdir()):\n",
    "        if path.suffix.lower() not in {'.jpg', '.jpeg', '.png', '.bmp'}:\n",
    "            continue\n",
    "        img_bgr = cv2.imread(str(path))\n",
    "        gray = preprocess(img_bgr)\n",
    "        kp, des = detector.detectAndCompute(gray, None)\n",
    "        if des is not None:\n",
    "            db.append({'name': path.stem, 'kp': kp, 'des': des, 'shape': gray.shape})\n",
    "    return db"
   ]
  },
  {
   "cell_type": "code",
   "execution_count": null,
   "id": "83af61ef",
   "metadata": {},
   "outputs": [],
   "source": [
    "def good_matches(matcher, d_query, d_train):\n",
    "    \"\"\"Return good matches after Lowe ratio.\"\"\"\n",
    "    if d_query is None or d_train is None:\n",
    "        return []\n",
    "    knn = matcher.knnMatch(d_query, d_train, k=2)\n",
    "    good = []\n",
    "    for pair in knn:\n",
    "        if len(pair) == 2:\n",
    "            m, n = pair\n",
    "            if m.distance < RATIO_TEST * n.distance:\n",
    "                good.append(m)\n",
    "    return good"
   ]
  },
  {
   "cell_type": "code",
   "execution_count": null,
   "id": "8a3e19f5",
   "metadata": {},
   "outputs": [],
   "source": [
    "def annotate(frame, box, label):\n",
    "    thickness = max(2, int(0.004 * frame.shape[1]))\n",
    "    cv2.polylines(frame, [np.int32(box)], True, (0, 255, 0), thickness, cv2.LINE_AA)\n",
    "    cv2.putText(frame, label, (10, 30), cv2.FONT_HERSHEY_SIMPLEX,\n",
    "                1, (0, 255, 0), 2, cv2.LINE_AA)"
   ]
  },
  {
   "cell_type": "code",
   "execution_count": null,
   "id": "9f95fb72",
   "metadata": {},
   "outputs": [],
   "source": [
    "def process_video():\n",
    "    det = create_detector()\n",
    "    matcher = create_flann_matcher()\n",
    "    key_db = load_key_images(det, keys_dir)\n",
    "    print('Loaded', len(key_db), 'key images')\n",
    "\n",
    "    cap = cv2.VideoCapture(str(video_path))\n",
    "    total = int(cap.get(cv2.CAP_PROP_FRAME_COUNT)) or None\n",
    "    fps = cap.get(cv2.CAP_PROP_FPS) or 30\n",
    "    w, h = int(cap.get(3)), int(cap.get(4))\n",
    "    writer = cv2.VideoWriter(str(output_dir/'orb.mp4'),\n",
    "                              cv2.VideoWriter_fourcc(*'mp4v'), fps, (w, h))\n",
    "\n",
    "    stats = defaultdict(int)\n",
    "    pbar = tqdm(total=total, desc='video', unit='frame')\n",
    "\n",
    "    while True:\n",
    "        ret, frame = cap.read()\n",
    "        if not ret:\n",
    "            break\n",
    "        gray_f = preprocess(frame, blur=False)\n",
    "        kp_f, des_f = det.detectAndCompute(gray_f, None)\n",
    "        best = None\n",
    "        best_matches = []\n",
    "        best_H = None\n",
    "\n",
    "        for db in key_db:\n",
    "            gm = good_matches(matcher, db['des'], des_f)\n",
    "            if len(gm) < MIN_INLIERS:\n",
    "                continue\n",
    "            src_pts = np.float32([db['kp'][m.queryIdx].pt for m in gm]).reshape(-1, 1, 2)\n",
    "            dst_pts = np.float32([kp_f[m.trainIdx].pt for m in gm]).reshape(-1, 1, 2)\n",
    "            H, mask = cv2.findHomography(src_pts, dst_pts, cv2.RANSAC, 5.0)\n",
    "            if H is None:\n",
    "                continue\n",
    "            inliers = mask.ravel().sum()\n",
    "            if inliers >= MIN_INLIERS and inliers / len(gm) >= MIN_INLIER_RATIO:\n",
    "                if inliers > len(best_matches):\n",
    "                    best = db\n",
    "                    best_matches = gm\n",
    "                    best_H = H\n",
    "\n",
    "        if best is not None:\n",
    "            h0, w0 = best['shape']\n",
    "            corners = np.float32([[0, 0], [w0, 0], [w0, h0], [0, h0]]).reshape(-1, 1, 2)\n",
    "            box = cv2.perspectiveTransform(corners, best_H)\n",
    "            annotate(frame, box, f\"{best['name']} ({len(best_matches)})\")\n",
    "            stats[best['name']] += len(best_matches)\n",
    "\n",
    "        writer.write(frame)\n",
    "        pbar.update(1)\n",
    "\n",
    "    pbar.close()\n",
    "    cap.release(); writer.release()\n",
    "    return stats"
   ]
  },
  {
   "cell_type": "code",
   "execution_count": null,
   "id": "ca01cae6",
   "metadata": {},
   "outputs": [],
   "source": [
    "stats = process_video()\n",
    "print('Done')"
   ]
  },
  {
   "cell_type": "code",
   "execution_count": null,
   "id": "0c5e4434",
   "metadata": {},
   "outputs": [],
   "source": [
    "if stats:\n",
    "    names = list(stats.keys())\n",
    "    counts = [stats[n] for n in names]\n",
    "    plt.bar(names, counts)\n",
    "    plt.xticks(rotation=45, ha='right')\n",
    "    plt.ylabel('Cumulative matches')\n",
    "    plt.title('Good matches per key image')\n",
    "    plt.show()"
   ]
  },
  {
   "cell_type": "code",
   "execution_count": null,
   "id": "f07e25eb",
   "metadata": {},
   "outputs": [],
   "source": [
    "cap = cv2.VideoCapture(str(output_dir/'orb.mp4'))\n",
    "ret, fr = cap.read(); cap.release()\n",
    "if ret:\n",
    "    fr_rgb = cv2.cvtColor(fr, cv2.COLOR_BGR2RGB)\n",
    "    plt.imshow(fr_rgb)\n",
    "    plt.title('Annotated frame sample')\n",
    "    plt.axis('off')\n",
    "    plt.show()"
   ]
  }
 ],
 "metadata": {
  "kernelspec": {
   "display_name": ".venv",
   "language": "python",
   "name": "python3"
  },
  "language_info": {
   "codemirror_mode": {
    "name": "ipython",
    "version": 3
   },
   "file_extension": ".py",
   "mimetype": "text/x-python",
   "name": "python",
   "nbconvert_exporter": "python",
   "pygments_lexer": "ipython3",
   "version": "3.12.2"
  }
 },
 "nbformat": 4,
 "nbformat_minor": 5
}
